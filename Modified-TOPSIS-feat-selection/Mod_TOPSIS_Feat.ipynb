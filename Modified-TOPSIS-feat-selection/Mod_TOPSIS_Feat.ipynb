{
  "nbformat": 4,
  "nbformat_minor": 0,
  "metadata": {
    "colab": {
      "provenance": []
    },
    "kernelspec": {
      "name": "python3",
      "display_name": "Python 3"
    },
    "language_info": {
      "name": "python"
    }
  },
  "cells": [
    {
      "cell_type": "code",
      "execution_count": null,
      "metadata": {
        "id": "3sbenao_Tzix"
      },
      "outputs": [],
      "source": []
    },
    {
      "cell_type": "code",
      "source": [
        "import numpy as np\n",
        "\n",
        "def normalize(data):\n",
        "    norm_data = data / np.sqrt(np.sum(data**2, axis=0))\n",
        "    return norm_data\n",
        "\n",
        "def weighted_normalized_decision_matrix(data, weights):\n",
        "    norm_data = normalize(data)\n",
        "    weighted_data = norm_data * weights\n",
        "    return weighted_data\n",
        "\n",
        "def median_ideal_and_nadir(weighted_data):\n",
        "    ideal_best = np.median(weighted_data, axis=0)\n",
        "    ideal_worst = np.median(weighted_data, axis=0)\n",
        "    return ideal_best, ideal_worst\n",
        "\n",
        "def robust_distance(ideal_best, ideal_worst, weighted_data):\n",
        "    # Manhattan Distance\n",
        "    manhattan_to_best = np.sum(np.abs(weighted_data - ideal_best), axis=1)\n",
        "    manhattan_to_worst = np.sum(np.abs(weighted_data - ideal_worst), axis=1)\n",
        "\n",
        "    # Euclidean Distance\n",
        "    euclidean_to_best = np.sqrt(np.sum((weighted_data - ideal_best)**2, axis=1))\n",
        "    euclidean_to_worst = np.sqrt(np.sum((weighted_data - ideal_worst)**2, axis=1))\n",
        "\n",
        "    # Chebyshev Distance\n",
        "    chebyshev_to_best = np.max(np.abs(weighted_data - ideal_best), axis=1)\n",
        "    chebyshev_to_worst = np.max(np.abs(weighted_data - ideal_worst), axis=1)\n",
        "\n",
        "    # Combined robust distance calculation\n",
        "    dist_to_best = np.sqrt((np.log(1 + manhattan_to_best))**2 +\n",
        "                           (np.log(1 + euclidean_to_best))**2 +\n",
        "                           (np.log(1 + chebyshev_to_best))**2)\n",
        "\n",
        "    dist_to_worst = np.sqrt((np.log(1 + manhattan_to_worst))**2 +\n",
        "                            (np.log(1 + euclidean_to_worst))**2 +\n",
        "                            (np.log(1 + chebyshev_to_worst))**2)\n",
        "\n",
        "    return dist_to_best, dist_to_worst\n",
        "\n",
        "def topsis(data, weights):\n",
        "    weighted_data = weighted_normalized_decision_matrix(data, weights)\n",
        "    ideal_best, ideal_worst = median_ideal_and_nadir(weighted_data)\n",
        "    dist_to_best, dist_to_worst = robust_distance(ideal_best, ideal_worst, weighted_data)\n",
        "\n",
        "    # Calculate TOPSIS score\n",
        "    topsis_score = 0.5 * (dist_to_worst / (dist_to_best + dist_to_worst)) + 0.5 * (1 / (1 + dist_to_best))\n",
        "\n",
        "    return topsis_score\n",
        "\n",
        "data = np.array([\n",
        "    [ 0.258827, 302.967663, 1],\n",
        "    [ 0.214318, 283.510830, 1],\n",
        "    [ 0.264581, 338.326726, 1],\n",
        "    [ 0.289202, 322.475929, 1],\n",
        "    [ 0.299575, 364.942572, 1],\n",
        "    [ 0.302290, 411.138744, 1],\n",
        "    [ 0.317003, 417.127252, 1],\n",
        "    [ 0.311528, 471.553455, 1],\n",
        "    [ 0.180598, 6.611628, 1],\n",
        "    [ 0.363767, 613.847322, 1],\n",
        "    [ 0.028950, 25.355219, 1],\n",
        "    [ 0.034966, 14.601259, 1],\n",
        "    [0.026474, 8.855874, 1],\n",
        "    [ 0.034622, 0.427003, 1],\n",
        "    [ 0.011118, 10.985586, 1],\n",
        "    [ 0.000978, 0.431122, 1]\n",
        "])\n",
        "\n",
        "# Weight matrix\n",
        "weights = np.array([0.33, 0.33, 0.33])  # Example weights\n",
        "\n",
        "# Perform TOPSIS ranking\n",
        "topsis_ranks = topsis(data[:, :-1], weights[:-1])\n",
        "\n",
        "# Sort the features based on the TOPSIS ranking\n",
        "sorted_indices = np.argsort(topsis_ranks)[::-1]  # Reverse the order to get highest rank first\n",
        "\n",
        "# Feature names\n",
        "feature_names = [\n",
        "    'work is meaningful', 'good relationship with peers', 'family supports', 'satisfied with career and opportunity',\n",
        "    'mentally well and do not have anxiety', 'satisfied with work-life balance', 'satisfied compensation', 'satisfied with job profession',\n",
        "    'working hour', 'satisfaction with workload', 'Age', 'monthly average expenditure', 'Gender', 'Job position', 'Work tenure', 'Education']\n",
        "# Print the sorted features with names and TOPSIS ranks\n",
        "features_list_sorted = []\n",
        "print(\"Sorted Features:\")\n",
        "for rank, (index, name) in enumerate(zip(sorted_indices, [feature_names[i] for i in sorted_indices]), start=1):\n",
        "    features_list_sorted.append(name)\n",
        "    print(f\"{rank}. {name}: {topsis_ranks[index]:.6f}\")"
      ],
      "metadata": {
        "colab": {
          "base_uri": "https://localhost:8080/"
        },
        "id": "OdMFvjt4aueZ",
        "outputId": "be3b01b3-3506-4818-f38f-e77d9c976ce4"
      },
      "execution_count": 2,
      "outputs": [
        {
          "output_type": "stream",
          "name": "stdout",
          "text": [
            "Sorted Features:\n",
            "1. work is meaningful: 0.742164\n",
            "2. good relationship with peers: 0.742164\n",
            "3. family supports: 0.735460\n",
            "4. satisfied with career and opportunity: 0.731301\n",
            "5. mentally well and do not have anxiety: 0.723457\n",
            "6. satisfied with work-life balance: 0.715387\n",
            "7. satisfied compensation: 0.711982\n",
            "8. satisfied with job profession: 0.703404\n",
            "9. working hour: 0.687354\n",
            "10. satisfaction with workload: 0.674431\n",
            "11. Age: 0.671531\n",
            "12. monthly average expenditure: 0.671277\n",
            "13. Gender: 0.669441\n",
            "14. Job position: 0.669370\n",
            "15. Work tenure: 0.667057\n",
            "16. Education: 0.664353\n"
          ]
        }
      ]
    }
  ]
}